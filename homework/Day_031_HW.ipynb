{
 "cells": [
  {
   "cell_type": "markdown",
   "metadata": {},
   "source": [
    "# 作業問題：請找出一個你認為機器學習可以發光發熱的領域並闡述原因?"
   ]
  },
  {
   "cell_type": "markdown",
   "metadata": {},
   "source": [
    "現代機器學習已廣泛運用在許多層面以及領域之上，然而我認為未來機器學習可以在醫療領域上更加的有用處，醫療領域上全球的病例以取得大量的數據，而這些數據若能夠利用機器學習來善加利用會有更好的效果，例如在醫療斷層掃描、X光等等的照片上利用機器學習的圖像辨識達到檢測病源、問題發現等等的功能，減少病人等待醫生診斷所需花費的時間，更快速並且精準的治療。"
   ]
  },
  {
   "cell_type": "code",
   "execution_count": null,
   "metadata": {
    "collapsed": true
   },
   "outputs": [],
   "source": []
  }
 ],
 "metadata": {
  "kernelspec": {
   "display_name": "Python 3",
   "language": "python",
   "name": "python3"
  },
  "language_info": {
   "codemirror_mode": {
    "name": "ipython",
    "version": 3
   },
   "file_extension": ".py",
   "mimetype": "text/x-python",
   "name": "python",
   "nbconvert_exporter": "python",
   "pygments_lexer": "ipython3",
   "version": "3.6.6"
  }
 },
 "nbformat": 4,
 "nbformat_minor": 2
}
